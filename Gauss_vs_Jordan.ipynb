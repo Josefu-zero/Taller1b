{
 "cells": [
  {
   "cell_type": "markdown",
   "metadata": {},
   "source": []
  },
  {
   "cell_type": "markdown",
   "metadata": {},
   "source": [
    "# Eliminación Gaussiana con sustitución hacia atrás"
   ]
  },
  {
   "cell_type": "code",
   "execution_count": 2,
   "metadata": {},
   "outputs": [],
   "source": [
    "%load_ext autoreload"
   ]
  },
  {
   "cell_type": "code",
   "execution_count": 7,
   "metadata": {},
   "outputs": [
    {
     "name": "stdout",
     "output_type": "stream",
     "text": [
      "[06-24 17:36:47][INFO] Intercambiando filas 0 y 1\n",
      "[06-24 17:36:47][INFO] \n",
      "[[  1.   0.   2.  -1.   1.   2.]\n",
      " [  0.   1.  -7.   6.  -5.   3.]\n",
      " [  0.  -2.  -1.   1.  -1.  -5.]\n",
      " [  0.   1. -10.   3.   2.   0.]\n",
      " [  0.  -1.  -5.   1.  -1.  -1.]]\n",
      "[06-24 17:36:47][INFO] \n",
      "[[  1.   0.   2.  -1.   1.   2.]\n",
      " [  0.   1.  -7.   6.  -5.   3.]\n",
      " [  0.   0. -15.  13. -11.   1.]\n",
      " [  0.   0.  -3.  -3.   7.  -3.]\n",
      " [  0.   0. -12.   7.  -6.   2.]]\n",
      "[06-24 17:36:47][INFO] Intercambiando filas 2 y 3\n",
      "[06-24 17:36:47][INFO] \n",
      "[[  1.   0.   2.  -1.   1.   2.]\n",
      " [  0.   1.  -7.   6.  -5.   3.]\n",
      " [  0.   0.  -3.  -3.   7.  -3.]\n",
      " [  0.   0.   0.  28. -46.  16.]\n",
      " [  0.   0.   0.  19. -34.  14.]]\n",
      "[06-24 17:36:47][INFO] Intercambiando filas 3 y 4\n",
      "[06-24 17:36:47][INFO] \n",
      "[[  1.           0.           2.          -1.           1.\n",
      "    2.        ]\n",
      " [  0.           1.          -7.           6.          -5.\n",
      "    3.        ]\n",
      " [  0.           0.          -3.          -3.           7.\n",
      "   -3.        ]\n",
      " [  0.           0.           0.          19.         -34.\n",
      "   14.        ]\n",
      " [  0.           0.           0.           0.           4.10526316\n",
      "   -4.63157895]]\n"
     ]
    },
    {
     "data": {
      "text/plain": [
       "array([ 2.54700855,  2.5982906 , -0.35042735, -1.28205128, -1.12820513])"
      ]
     },
     "execution_count": 7,
     "metadata": {},
     "output_type": "execute_result"
    }
   ],
   "source": [
    "# %load_ext autoreload\n",
    "%autoreload 2\n",
    "from src import eliminacion_gaussiana, gauss_jordan\n",
    "\n",
    "Ab = [[2, 1, -3, 4,-3,7.], [1,0,2,-1,1,2], [0,-2,-1,1,-1,-5], [3,1,-4,0,5,6], [2,-1,-1,-1,1,3]]\n",
    "\n",
    "eliminacion_gaussiana(Ab)\n"
   ]
  },
  {
   "cell_type": "markdown",
   "metadata": {},
   "source": [
    "# Eliminación Gaussiana con sustitución hacia atrás"
   ]
  },
  {
   "cell_type": "code",
   "execution_count": 14,
   "metadata": {},
   "outputs": [
    {
     "name": "stdout",
     "output_type": "stream",
     "text": [
      "[06-24 17:45:09][INFO] \n",
      "[[  1.   0.   2.  -1.   1.   2.]\n",
      " [  0.   1.  -7.   6.  -5.   3.]\n",
      " [  0.  -2.  -1.   1.  -1.  -5.]\n",
      " [  0.   1. -10.   3.   2.   0.]\n",
      " [  0.  -1.  -5.   1.  -1.  -1.]]\n",
      "4 4\n",
      "[06-24 17:45:09][INFO] \n",
      "[[  1.   0.   2.  -1.   1.   2.]\n",
      " [  0.   1.  -7.   6.  -5.   3.]\n",
      " [  0.   0. -15.  13. -11.   1.]\n",
      " [  0.   0.  -3.  -3.   7.  -3.]\n",
      " [  0.   0. -12.   7.  -6.   2.]]\n",
      "8 8\n",
      "[06-24 17:45:09][INFO] \n",
      "[[  1.           0.           0.          -3.           5.66666667\n",
      "    0.        ]\n",
      " [  0.           1.           0.          13.         -21.33333333\n",
      "   10.        ]\n",
      " [  0.           0.          -3.          -3.           7.\n",
      "   -3.        ]\n",
      " [  0.           0.           0.          28.         -46.\n",
      "   16.        ]\n",
      " [  0.           0.           0.          19.         -34.\n",
      "   14.        ]]\n",
      "12 12\n",
      "[06-24 17:45:09][INFO] \n",
      "[[  1.           0.           0.           0.           0.29824561\n",
      "    2.21052632]\n",
      " [  0.           1.           0.           0.           1.92982456\n",
      "    0.42105263]\n",
      " [  0.           0.          -3.           0.           1.63157895\n",
      "   -0.78947368]\n",
      " [  0.           0.           0.          19.         -34.\n",
      "   14.        ]\n",
      " [  0.           0.           0.           0.           4.10526316\n",
      "   -4.63157895]]\n",
      "16 16\n",
      "[06-24 17:45:09][INFO] \n",
      "[[  1.           0.           0.           0.           0.\n",
      "    2.54700855]\n",
      " [  0.           1.           0.           0.           0.\n",
      "    2.5982906 ]\n",
      " [  0.           0.          -3.           0.           0.\n",
      "    1.05128205]\n",
      " [  0.           0.           0.          19.           0.\n",
      "  -24.35897436]\n",
      " [  0.           0.           0.           0.           4.10526316\n",
      "   -4.63157895]]\n",
      "20 20\n"
     ]
    },
    {
     "data": {
      "text/plain": [
       "array([ 2.54700855,  2.5982906 , -0.35042735, -1.28205128, -1.12820513])"
      ]
     },
     "execution_count": 14,
     "metadata": {},
     "output_type": "execute_result"
    }
   ],
   "source": [
    "gauss_jordan(Ab)"
   ]
  },
  {
   "cell_type": "code",
   "execution_count": null,
   "metadata": {},
   "outputs": [],
   "source": []
  }
 ],
 "metadata": {
  "kernelspec": {
   "display_name": "Python 3",
   "language": "python",
   "name": "python3"
  },
  "language_info": {
   "codemirror_mode": {
    "name": "ipython",
    "version": 3
   },
   "file_extension": ".py",
   "mimetype": "text/x-python",
   "name": "python",
   "nbconvert_exporter": "python",
   "pygments_lexer": "ipython3",
   "version": "3.13.2"
  }
 },
 "nbformat": 4,
 "nbformat_minor": 2
}
